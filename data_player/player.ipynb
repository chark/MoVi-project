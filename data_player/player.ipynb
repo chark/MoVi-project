{
 "cells": [
  {
   "cell_type": "code",
   "execution_count": 2,
   "metadata": {},
   "outputs": [],
   "source": [
    "import scipy.io as sio\n",
    "import numpy as np"
   ]
  },
  {
   "cell_type": "code",
   "execution_count": 3,
   "metadata": {},
   "outputs": [],
   "source": [
    "def mat2dict(filename):\n",
    "    \"\"\"Converts MoVi mat files to a python nested dictionary.\n",
    "    This makes a cleaner representation compared to sio.loadmat\n",
    "    Arguments:\n",
    "        filename {str} -- The path pointing to the .mat file which contains\n",
    "        MoVi style mat structs\n",
    "    Returns:\n",
    "        dict -- A nested dictionary similar to the MoVi style MATLAB struct\n",
    "    \"\"\"\n",
    "    # Reading MATLAB file\n",
    "    data = sio.loadmat(filename, struct_as_record=False, squeeze_me=True)\n",
    "\n",
    "    # Converting mat-objects to a dictionary\n",
    "    for key in data:\n",
    "        if key != \"__header__\" and key != \"__global__\" and key != \"__version__\":\n",
    "            if isinstance(data[key], sio.matlab.mio5_params.mat_struct):\n",
    "                data_out = matobj2dict(data[key])\n",
    "    return data_out\n",
    "\n",
    "\n",
    "def matobj2dict(matobj):\n",
    "    \"\"\"A recursive function which converts nested mat object\n",
    "    to a nested python dictionaries\n",
    "\n",
    "    Arguments:\n",
    "        matobj {sio.matlab.mio5_params.mat_struct} -- nested mat object\n",
    "\n",
    "    Returns:\n",
    "        dict -- a nested dictionary\n",
    "    \"\"\"\n",
    "    ndict = {}\n",
    "    for fieldname in matobj._fieldnames:\n",
    "        attr = matobj.__dict__[fieldname]\n",
    "        if isinstance(attr, sio.matlab.mio5_params.mat_struct):\n",
    "            ndict[fieldname] = matobj2dict(attr)\n",
    "        elif isinstance(attr, np.ndarray) and fieldname == \"move\":\n",
    "            for ind, val in np.ndenumerate(attr):\n",
    "                ndict[\n",
    "                    fieldname\n",
    "                    + str(ind).replace(\",\", \"\").replace(\")\", \"\").replace(\"(\", \"_\")\n",
    "                ] = matobj2dict(val)\n",
    "        elif fieldname == \"skel\":\n",
    "            tree = []\n",
    "            for ind in range(len(attr)):\n",
    "                tree.append(matobj2dict(attr[ind]))\n",
    "            ndict[fieldname] = tree\n",
    "        else:\n",
    "            ndict[fieldname] = attr\n",
    "    return ndict\n",
    "\n"
   ]
  },
  {
   "cell_type": "code",
   "execution_count": 4,
   "metadata": {},
   "outputs": [
    {
     "data": {
      "text/plain": [
       "581"
      ]
     },
     "execution_count": 4,
     "metadata": {},
     "output_type": "execute_result"
    }
   ],
   "source": [
    "data = mat2dict('../data/AMASS/F_amass_Subject_1.mat')\n",
    "len(data['move_0']['jointsLocation_amass'])"
   ]
  },
  {
   "cell_type": "code",
   "execution_count": 37,
   "metadata": {},
   "outputs": [
    {
     "data": {
      "text/plain": [
       "(array([[[373.28643049, 256.40073867, 955.47778345],\n",
       "         [353.75470365, 317.86515453, 870.13708985],\n",
       "         [365.54407025, 191.33526721, 861.75640858],\n",
       "         ...,\n",
       "         [429.23064972,   1.58622005, 856.33614845],\n",
       "         [437.15028907,  22.95146027, 833.58482457],\n",
       "         [447.49312545,  32.03620651, 809.49361808]],\n",
       " \n",
       "        [[373.3180504 , 256.39192671, 955.4722096 ],\n",
       "         [353.89069129, 317.74728843, 870.02929031],\n",
       "         [365.95113982, 191.23400845, 861.78480937],\n",
       "         ...,\n",
       "         [429.87706174,   1.62017443, 856.28778591],\n",
       "         [437.81494011,  23.0745832 , 833.62691208],\n",
       "         [448.18567146,  32.2550694 , 809.58403751]],\n",
       " \n",
       "        [[372.84393154, 256.30762238, 955.53079525],\n",
       "         [353.42551314, 317.66275313, 870.08567431],\n",
       "         [365.47417485, 191.14811715, 861.84471378],\n",
       "         ...,\n",
       "         [429.38458465,   1.55661251, 856.32733533],\n",
       "         [437.31873773,  23.01660921, 833.67045501],\n",
       "         [447.68860482,  32.20348801, 809.62964424]],\n",
       " \n",
       "        ...,\n",
       " \n",
       "        [[380.64500283, 226.09276189, 957.26208677],\n",
       "         [361.22133921, 288.99695403, 872.95208042],\n",
       "         [371.41304801, 162.46680966, 862.69114455],\n",
       "         ...,\n",
       "         [447.12005149, -34.65083935, 874.13097834],\n",
       "         [453.94222032, -16.07585647, 848.7293153 ],\n",
       "         [465.75851332,  -8.981056  , 824.64751889]],\n",
       " \n",
       "        [[380.87438897, 225.63398721, 957.23162759],\n",
       "         [361.44412414, 288.54140917, 872.92552906],\n",
       "         [371.67742209, 162.01562712, 862.6521619 ],\n",
       "         ...,\n",
       "         [447.1231486 , -34.88466611, 874.29356742],\n",
       "         [453.97643105, -16.3016962 , 848.90611637],\n",
       "         [465.82842724,  -9.19615199, 824.84505493]],\n",
       " \n",
       "        [[135.09731421, 227.20015337, 928.71391603],\n",
       "         [135.09731421, 227.20015337, 928.71391603],\n",
       "         [135.09731421, 227.20015337, 928.71391603],\n",
       "         ...,\n",
       "         [135.09731421, 227.20015337, 928.71391603],\n",
       "         [135.09731421, 227.20015337, 928.71391603],\n",
       "         [135.09731421, 227.20015337, 928.71391603]]]),\n",
       " (581, 52, 3))"
      ]
     },
     "execution_count": 37,
     "metadata": {},
     "output_type": "execute_result"
    }
   ],
   "source": [
    "joints = data['move_0']['jointsLocation_amass']\n",
    "joints, joints.shape"
   ]
  },
  {
   "cell_type": "code",
   "execution_count": 54,
   "metadata": {},
   "outputs": [
    {
     "data": {
      "text/plain": [
       "(146, 52, 3)"
      ]
     },
     "execution_count": 54,
     "metadata": {},
     "output_type": "execute_result"
    }
   ],
   "source": [
    "# markers(1:4:end,:,:);\n",
    "markers = joints[0::4,:,:]\n",
    "markers.shape"
   ]
  },
  {
   "cell_type": "code",
   "execution_count": 53,
   "metadata": {},
   "outputs": [
    {
     "data": {
      "text/plain": [
       "(146, 52, 3)"
      ]
     },
     "execution_count": 53,
     "metadata": {},
     "output_type": "execute_result"
    }
   ],
   "source": [
    "# Validation\n",
    "import scipy.io as sio\n",
    "markers_matlab = sio.loadmat('/home/ugnelis/GIT/MoVi/chark/MoVi-Toolbox/MoCap/Markers.mat', simplify_cells=True)['Markers']\n",
    "markers_matlab.shape"
   ]
  },
  {
   "cell_type": "code",
   "execution_count": 50,
   "metadata": {},
   "outputs": [
    {
     "data": {
      "text/plain": [
       "(328.662936338117, 328.6629512392782)"
      ]
     },
     "execution_count": 50,
     "metadata": {},
     "output_type": "execute_result"
    }
   ],
   "source": [
    "# For some reason number after comma don't match\n",
    "markers[0, 3, 0], markers_matlab[0, 3, 0]"
   ]
  },
  {
   "cell_type": "code",
   "execution_count": 23,
   "metadata": {},
   "outputs": [
    {
     "name": "stdout",
     "output_type": "stream",
     "text": [
      "146\n"
     ]
    }
   ],
   "source": [
    "import cv2\n",
    "import matplotlib\n",
    "from matplotlib import pyplot as plt\n",
    "\n",
    "cap = cv2.VideoCapture('../data/PG1/F_PG1_Subject_1_L1.avi')\n",
    "cap.isOpened()\n",
    "length = int(cap.get(cv2.CAP_PROP_FRAME_COUNT))\n",
    "print(length)"
   ]
  },
  {
   "cell_type": "code",
   "execution_count": 9,
   "metadata": {},
   "outputs": [
    {
     "data": {
      "image/png": "[encoded data removed]",
      "text/plain": [
       "<Figure size 432x288 with 1 Axes>"
      ]
     },
     "metadata": {
      "needs_background": "light"
     },
     "output_type": "display_data"
    }
   ],
   "source": [
    "total_frames = cap.get(0)\n",
    "ret, frame = cap.read()\n",
    "\n",
    "plt.imshow(frame)\n",
    "plt.title('my picture')\n",
    "plt.show()"
   ]
  },
  {
   "cell_type": "code",
   "execution_count": 10,
   "metadata": {},
   "outputs": [
    {
     "name": "stdout",
     "output_type": "stream",
     "text": [
      "IntrinsicMatrix\n",
      "RadialDistortion\n"
     ]
    }
   ],
   "source": [
    "camera_data = np.load('../data/Calib/cameraParams_PG1.npz')\n",
    "for key in camera_data.files:\n",
    "    print(key)"
   ]
  },
  {
   "cell_type": "code",
   "execution_count": 12,
   "metadata": {
    "pycharm": {
     "name": "#%%\n"
    }
   },
   "outputs": [
    {
     "name": "stdout",
     "output_type": "stream",
     "text": [
      "[[979.17889011   0.           0.        ]\n",
      " [  0.         978.10179305   0.        ]\n",
      " [408.0273103  291.16967878   1.        ]]\n"
     ]
    }
   ],
   "source": [
    "intrinsic_matrix = camera_data['IntrinsicMatrix']\n",
    "# intrinsic_matrix = np.rot90(np.fliplr(intrinsic_matrix))\n",
    "print(intrinsic_matrix)\n",
    "\n",
    "# fx = intrinsic_matrix[0][0]\n",
    "# fy = intrinsic_matrix[1][1]\n",
    "# cx = intrinsic_matrix[2][0]\n",
    "# cy = intrinsic_matrix[2][1]"
   ]
  },
  {
   "cell_type": "code",
   "execution_count": 13,
   "metadata": {},
   "outputs": [
    {
     "data": {
      "text/plain": [
       "array([-0.18236467,  0.18388686])"
      ]
     },
     "execution_count": 13,
     "metadata": {},
     "output_type": "execute_result"
    }
   ],
   "source": [
    "radial_distortion = camera_data['RadialDistortion']\n",
    "radial_distortion"
   ]
  },
  {
   "cell_type": "code",
   "execution_count": 14,
   "metadata": {},
   "outputs": [
    {
     "name": "stdout",
     "output_type": "stream",
     "text": [
      "rotationMatrix\n",
      "translationVector\n"
     ]
    },
    {
     "data": {
      "text/plain": [
       "(array([[ 0.0305191 ,  0.06318672, -0.99753497],\n",
       "        [ 0.99942183,  0.01303452,  0.03140247],\n",
       "        [ 0.01498661, -0.9979166 , -0.06275239]]),\n",
       " array([-177.23154422, 1030.55751095, 4999.31781498]))"
      ]
     },
     "execution_count": 14,
     "metadata": {},
     "output_type": "execute_result"
    }
   ],
   "source": [
    "extrinsics_data = np.load('../data/Calib/Extrinsics_PG1.npz')\n",
    "for key in extrinsics_data.files:\n",
    "    print(key)\n",
    "\n",
    "rotation_matrix = extrinsics_data['rotationMatrix']\n",
    "translation_vector = extrinsics_data['translationVector']\n",
    "rotation_matrix, translation_vector"
   ]
  },
  {
   "cell_type": "markdown",
   "metadata": {
    "pycharm": {
     "name": "#%% md\n"
    }
   },
   "source": [
    "https://docs.opencv.org/2.4/modules/calib3d/doc/camera_calibration_and_3d_reconstruction.html"
   ]
  },
  {
   "cell_type": "code",
   "execution_count": null,
   "outputs": [],
   "source": [
    "translation_vector_expand = np.expand_dims(translation_vector, axis=1)\n",
    "translation_vector_expand"
   ],
   "metadata": {
    "collapsed": false,
    "pycharm": {
     "name": "#%%\n"
    }
   }
  },
  {
   "cell_type": "code",
   "execution_count": null,
   "outputs": [],
   "source": [
    "def worldToVideo(mdData, cameraParams, rotationMatrix, translationVector):\n",
    "    markers = mdData[0::4,:,:]\n",
    "    return 123\n",
    "    "
   ],
   "metadata": {
    "collapsed": false,
    "pycharm": {
     "name": "#%%\n"
    }
   }
  },
  {
   "cell_type": "code",
   "execution_count": null,
   "outputs": [],
   "source": [
    "# def worldToImage(rotationMatrix, translationVector, worldPoints, varargin)\n"
   ],
   "metadata": {
    "collapsed": false,
    "pycharm": {
     "name": "#%%\n"
    }
   }
  },
  {
   "cell_type": "code",
   "execution_count": 20,
   "metadata": {},
   "outputs": [
    {
     "data": {
      "text/plain": [
       "array([[-177.23154422],\n",
       "       [1030.55751095],\n",
       "       [4999.31781498]])"
      ]
     },
     "execution_count": 20,
     "metadata": {},
     "output_type": "execute_result"
    }
   ],
   "source": [
    "# def worldToImage(rotationMatrix, translationVector, worldPoints, varargin)\n"
   ]
  },
  {
   "cell_type": "code",
   "execution_count": null,
   "metadata": {},
   "outputs": [],
   "source": [
    "def worldToVideo(mdData, cameraParams, rotationMatrix, translationVector):\n",
    "    markers = mdData[0::4,:,:]\n",
    "    return 123\n",
    "    "
   ]
  },
  {
   "cell_type": "code",
   "execution_count": null,
   "metadata": {},
   "outputs": [],
   "source": [
    "# def worldToImage(rotationMatrix, translationVector, worldPoints, varargin)\n"
   ]
  }
 ],
 "metadata": {
  "kernelspec": {
   "display_name": "Python 3",
   "language": "python",
   "name": "python3"
  },
  "language_info": {
   "codemirror_mode": {
    "name": "ipython",
    "version": 3
   },
   "file_extension": ".py",
   "mimetype": "text/x-python",
   "name": "python",
   "nbconvert_exporter": "python",
   "pygments_lexer": "ipython3",
   "version": "3.8.5"
  }
 },
 "nbformat": 4,
 "nbformat_minor": 2
}